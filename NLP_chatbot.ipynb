{
  "nbformat": 4,
  "nbformat_minor": 0,
  "metadata": {
    "colab": {
      "provenance": []
    },
    "kernelspec": {
      "name": "python3",
      "display_name": "Python 3"
    },
    "language_info": {
      "name": "python"
    }
  },
  "cells": [
    {
      "cell_type": "code",
      "execution_count": 2,
      "metadata": {
        "colab": {
          "base_uri": "https://localhost:8080/"
        },
        "id": "UB7Qr_y3JC-f",
        "outputId": "5d8a85fe-e66e-4dd5-dc87-374fa874bbc9"
      },
      "outputs": [
        {
          "name": "stdout",
          "output_type": "stream",
          "text": [
            "test Sentence\n"
          ]
        }
      ],
      "source": [
        "sentence = input()\n"
      ]
    },
    {
      "cell_type": "code",
      "source": [
        "exit_words = ['esc','quit','stop','exit']"
      ],
      "metadata": {
        "id": "4OO8_N2SJKgf"
      },
      "execution_count": 3,
      "outputs": []
    },
    {
      "cell_type": "code",
      "source": [
        "def lowercase(sent):\n",
        "  return sent.lower()"
      ],
      "metadata": {
        "id": "eYbu0Mv5Ke1f"
      },
      "execution_count": 4,
      "outputs": []
    },
    {
      "cell_type": "code",
      "source": [
        "x = lowercase(sentence)"
      ],
      "metadata": {
        "id": "S5JkYLyvKnN4"
      },
      "execution_count": 6,
      "outputs": []
    },
    {
      "cell_type": "code",
      "source": [
        "x"
      ],
      "metadata": {
        "colab": {
          "base_uri": "https://localhost:8080/",
          "height": 35
        },
        "id": "aSdxBVplLxE9",
        "outputId": "b43be359-3649-4d40-ace1-c4a516ad536f"
      },
      "execution_count": 7,
      "outputs": [
        {
          "output_type": "execute_result",
          "data": {
            "text/plain": [
              "'test sentence'"
            ],
            "application/vnd.google.colaboratory.intrinsic+json": {
              "type": "string"
            }
          },
          "metadata": {},
          "execution_count": 7
        }
      ]
    },
    {
      "cell_type": "code",
      "source": [],
      "metadata": {
        "id": "myyivvf9L7EE"
      },
      "execution_count": null,
      "outputs": []
    },
    {
      "cell_type": "code",
      "source": [
        "def uppercase(sent):\n",
        "  return sent.upper()"
      ],
      "metadata": {
        "id": "fyNK4hq-L0EB"
      },
      "execution_count": 8,
      "outputs": []
    },
    {
      "cell_type": "code",
      "source": [
        "exit_words = {\"exit\", \"quit\", \"4\"}  # Define exit words\n",
        "\n",
        "def lowercase(text):\n",
        "    return text.lower()\n",
        "\n",
        "def uppercase(text):\n",
        "    return text.upper()\n",
        "\n",
        "x = input(\"Enter text (or type 'exit' to quit): \")\n",
        "while x not in exit_words:\n",
        "    choice = input(\"Give 1 or 2 option: \")\n",
        "    if choice == '1':\n",
        "        print(lowercase(x))\n",
        "    elif choice == '2':\n",
        "        print(uppercase(x))\n",
        "    else:\n",
        "        print(\"Invalid choice\")\n",
        "    x = input(\"Enter text (or type 'exit' to quit): \")\n"
      ],
      "metadata": {
        "colab": {
          "base_uri": "https://localhost:8080/"
        },
        "id": "_vjO79owL8it",
        "outputId": "5382cf4d-3703-4e0a-f068-f7a1981829ae"
      },
      "execution_count": 11,
      "outputs": [
        {
          "name": "stdout",
          "output_type": "stream",
          "text": [
            "Enter text (or type 'exit' to quit): exit\n"
          ]
        }
      ]
    },
    {
      "cell_type": "code",
      "source": [
        "def chatbot():\n",
        "    while True:\n",
        "        print(\"Options:\\n1. Greet\\n2. Ask a question\\n3. Get a joke\\n4. Exit\")\n",
        "        user_input = input(\"Choose an option: \")\n",
        "\n",
        "        if user_input == \"4\":\n",
        "            print(\"Goodbye!\")\n",
        "            break\n",
        "        elif user_input == \"1\":\n",
        "            print(\"Hello! How can I assist you today?\")\n",
        "        elif user_input == \"2\":\n",
        "            print(\"Feel free to ask me anything!\")\n",
        "        elif user_input == \"3\":\n",
        "            print(\"Why don’t scientists trust atoms? Because they make up everything!\")\n",
        "        else:\n",
        "            print(\"Invalid option, please try again.\")\n",
        "\n",
        "chatbot()\n"
      ],
      "metadata": {
        "colab": {
          "base_uri": "https://localhost:8080/"
        },
        "id": "6s-2K5ydQGwv",
        "outputId": "c97fa6ca-1f58-4ce9-c020-c10e07fb75d5"
      },
      "execution_count": 10,
      "outputs": [
        {
          "output_type": "stream",
          "name": "stdout",
          "text": [
            "Options:\n",
            "1. Greet\n",
            "2. Ask a question\n",
            "3. Get a joke\n",
            "4. Exit\n",
            "Choose an option: 2\n",
            "Feel free to ask me anything!\n",
            "Options:\n",
            "1. Greet\n",
            "2. Ask a question\n",
            "3. Get a joke\n",
            "4. Exit\n",
            "Choose an option: 2\n",
            "Feel free to ask me anything!\n",
            "Options:\n",
            "1. Greet\n",
            "2. Ask a question\n",
            "3. Get a joke\n",
            "4. Exit\n",
            "Choose an option: 4\n",
            "Goodbye!\n"
          ]
        }
      ]
    }
  ]
}