{
  "nbformat": 4,
  "nbformat_minor": 0,
  "metadata": {
    "colab": {
      "provenance": [],
      "toc_visible": true
    },
    "kernelspec": {
      "name": "python3",
      "display_name": "Python 3"
    },
    "language_info": {
      "name": "python"
    }
  },
  "cells": [
    {
      "cell_type": "code",
      "source": [
        "import nltk\n",
        "import shutil\n",
        "\n",
        "# Remove the nltk_data folder to ensure clean download\n",
        "shutil.rmtree('/root/nltk_data', ignore_errors=True)\n",
        "\n",
        "# Download 'punkt' and 'punkt_tab'\n",
        "nltk.download('punkt')\n",
        "nltk.download('punkt_tab') # Download the required 'punkt_tab' data\n",
        "\n",
        "# Sample paragraph\n",
        "paragraph = \"\"\"\n",
        "Natural language processing (NLP) is a fascinating field of artificial intelligence.\n",
        "It focuses on the interaction between computers and humans through natural language.\n",
        "Tokenization is a crucial first step in NLP tasks.\n",
        "\"\"\"\n",
        "\n",
        "# Tokenize sentences\n",
        "sentences = nltk.sent_tokenize(paragraph)\n",
        "print(\"Sentences:\", sentences)"
      ],
      "metadata": {
        "colab": {
          "base_uri": "https://localhost:8080/"
        },
        "id": "vA4sMg1IS-Rb",
        "outputId": "3b9472cb-84f7-4d1a-848f-a120e7e194fa"
      },
      "execution_count": 4,
      "outputs": [
        {
          "output_type": "stream",
          "name": "stderr",
          "text": [
            "[nltk_data] Downloading package punkt to /root/nltk_data...\n",
            "[nltk_data]   Package punkt is already up-to-date!\n",
            "[nltk_data] Downloading package punkt_tab to /root/nltk_data...\n",
            "[nltk_data]   Unzipping tokenizers/punkt_tab.zip.\n"
          ]
        },
        {
          "output_type": "stream",
          "name": "stdout",
          "text": [
            "Sentences: ['\\nNatural language processing (NLP) is a fascinating field of artificial intelligence.', 'It focuses on the interaction between computers and humans through natural language.', 'Tokenization is a crucial first step in NLP tasks.']\n"
          ]
        }
      ]
    }
  ]
}